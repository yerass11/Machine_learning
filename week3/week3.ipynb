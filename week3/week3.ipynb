{
 "cells": [
  {
   "cell_type": "markdown",
   "id": "dcc3f001-88f1-475b-bf5a-5f0d1ca844a9",
   "metadata": {},
   "source": [
    "# Part 1:\n",
    "\n",
    "1) Give 1 real world example for:\n",
    "   - Binary Classification Task\n",
    "   - Multiclass Classification Task\n",
    "   - Regression Task\n",
    "\n",
    "Answer:\n",
    "\n",
    "    - Fraud detection:  fraudulent (1) or legitimate (0).\n",
    "    - Image Classification: Digit Training\n",
    "    - Predicting temperature "
   ]
  },
  {
   "cell_type": "markdown",
   "id": "d533bd41",
   "metadata": {},
   "source": [
    "2)\n",
    "Classifying into 2 classes, a model produces the following outputs:\n",
    "\n",
    "\n",
    "| $y_i$     |               $\\hat{y_i}$                                 \n",
    "|---------|----------------------------------------------------------|\n",
    "| 1       | 0.9 |\n",
    "| 1       | 0.4 |\n",
    "| 0       | 0.3 |\n",
    "| 0       | 0.6 |\n",
    "\n",
    "Calculate the binary cross-entropy loss.\n",
    "Answer:\n",
    "0.5737"
   ]
  },
  {
   "cell_type": "markdown",
   "id": "2f1f846a",
   "metadata": {},
   "source": [
    "3) While improving a model complexity, if you notice that a model's training error is decreasing but the test error is getting higher, what does this indicate about the model's behavior?\n",
    "\n",
    "Answer: overfitting"
   ]
  },
  {
   "cell_type": "markdown",
   "id": "b75d5f95",
   "metadata": {},
   "source": [
    "4. Suppose we have a dataset with categorical targets $Y = ${$1, ..., K$}. \n",
    "\n",
    "Let $n_k$ be the size of the $k$-th category :\n",
    "\n",
    "$$\n",
    "n_k = \\sum_{i=1}^{n} \\mathbb{I}[y_i = k], \\quad \\sum_{k=1}^{K} n_k = n.\n",
    "$$\n",
    "\n",
    "Consider a dummy model which always predicts category $l$, $1<l<K$. What is the value of the error rate ? For which $l$\n",
    " it is minimal?\n",
    "\n",
    "Answer:\n",
    "\n",
    "$$    \n",
    "     Error\\;rate = (asdas \\; sad) \\div (Total\\;number\\;of\\;samples)\n",
    "$$\n",
    "     Since the model always predicts class l, it's incorrect for all samples that do not belongs to l.\n",
    "$$\n",
    "     Error\\;rate(l) = (Number\\;of\\;samples\\;not\\;in\\;sample\\;l) \\div (n)\n",
    "$$  \n",
    "   The number of samples not in class l is:\n",
    "$$\n",
    "   n - n_l = \\sum_{k\\neq l} n_k\n",
    "$$\n",
    "\n",
    "$$\n",
    "    Error\\;rate = 1 - \\frac{n_{l\\;most\\;frequent}}{n}\n",
    "$$\n",
    "     \n",
    "\n",
    "    \n",
    "\n"
   ]
  },
  {
   "cell_type": "markdown",
   "id": "03be6d8c",
   "metadata": {},
   "source": [
    "5. The MSE for a constant model $f_\\theta(x_i) = c$ is given by : \n",
    "\n",
    "$$\n",
    "\\frac{1}{n} \\sum_{i=1}^{n} (y_i - c)^2.\n",
    "$$\n",
    "\n",
    "Find the constant $c$ that minimizes the MSE.\n",
    "\n",
    "$$\n",
    "\\frac{dMSE}{dc}=\\frac{1}{n} \\sum_{i=1}^{n} 2*(y_i - c)(-1)=0.\n",
    "$$\n",
    "$$\n",
    "-\\frac{2}{n} \\sum_{i=1}^{n} (y_i - c)=0.\n",
    "$$\n",
    "$$\n",
    "\\sum_{i=1}^{n} (y_i - c) = 0\n",
    "$$\n",
    "$$\n",
    "\\frac{1}{n} \\sum_{i=1}^{n} y_i. + n * c = 0\n",
    "$$\n",
    "$$\n",
    "\\frac{1}{n} \\sum_{i=1}^{n} (y_i - c)^2.\n",
    "$$\n",
    "$$\n",
    "c = \\frac{1}{n} \\sum_{i=1}^{n} y_i.\n",
    "$$"
   ]
  },
  {
   "cell_type": "markdown",
   "id": "98f73a6e-7bf3-4ede-9e06-7a392d56dd86",
   "metadata": {},
   "source": [
    "# Part 2:\n",
    "\n",
    "### Step 1 : Generate synthetic data (Y) following any type of distributions.\n"
   ]
  },
  {
   "cell_type": "code",
   "execution_count": 7,
   "id": "95d1ee72",
   "metadata": {},
   "outputs": [
    {
     "data": {
      "image/png": "[encoded data removed]",
      "text/plain": [
       "<Figure size 640x480 with 1 Axes>"
      ]
     },
     "metadata": {},
     "output_type": "display_data"
    }
   ],
   "source": [
    "import numpy as np\n",
    "import matplotlib.pyplot as plt\n",
    "\n",
    "RANDOM_SEED = 123\n",
    "np.random.seed(RANDOM_SEED)\n",
    "\n",
    "low = 50 \n",
    "high = 80\n",
    "sample_size = 10 ** 4\n",
    "\n",
    "# synthetic data (ages)\n",
    "ages = np.random.uniform(low=low, high=high, size=sample_size)\n",
    "\n",
    "plt.hist(ages, bins=30, edgecolor='black', alpha=0.7)\n",
    "plt.xlabel(\"Age in years\")\n",
    "plt.ylabel(\"Frequency\")\n",
    "plt.title(\"Distribution of Age (Uniform Distribution)\")\n",
    "plt.show()"
   ]
  },
  {
   "cell_type": "markdown",
   "id": "43873931",
   "metadata": {},
   "source": [
    "### Step 2 : Define a function to compute MSE\n"
   ]
  },
  {
   "cell_type": "code",
   "execution_count": 8,
   "id": "fd08011e",
   "metadata": {},
   "outputs": [],
   "source": [
    "def mean_square_err(y_true, y_pred):\n",
    "    n = len(y_true)\n",
    "    mse = 0\n",
    "    for i in range(n):\n",
    "        mse += (y_true[i] - y_pred[i]) ** 2\n",
    "    mse /= n\n",
    "    return mse\n"
   ]
  },
  {
   "cell_type": "markdown",
   "id": "b7141b73",
   "metadata": {},
   "source": [
    "### Step 3 : Find the optimal c, compare it to the mean of you synthetic dataset\n"
   ]
  },
  {
   "cell_type": "code",
   "execution_count": 9,
   "id": "22abbdba",
   "metadata": {},
   "outputs": [
    {
     "data": {
      "text/plain": [
       "np.float64(64.94693435931038)"
      ]
     },
     "execution_count": 9,
     "metadata": {},
     "output_type": "execute_result"
    }
   ],
   "source": [
    "optimal_c = ages.mean()\n",
    "optimal_c"
   ]
  },
  {
   "cell_type": "markdown",
   "id": "4010751b",
   "metadata": {},
   "source": [
    "### Step 4 : Plot the MSE curve and the optimal c"
   ]
  },
  {
   "cell_type": "code",
   "execution_count": 12,
   "id": "e38ba4fe",
   "metadata": {},
   "outputs": [
    {
     "data": {
      "image/png": "[encoded data removed]",
      "text/plain": [
       "<Figure size 800x600 with 1 Axes>"
      ]
     },
     "metadata": {},
     "output_type": "display_data"
    }
   ],
   "source": [
    "c_values = np.linspace(np.min(ages), np.max(ages), 100)\n",
    "mse_values = np.array([mean_square_err(ages, np.full_like(ages, c)) for c in c_values])\n",
    "\n",
    "plt.figure(figsize=(8, 6))\n",
    "plt.plot(c_values, mse_values, label=\"MSE Curve\", color='b')\n",
    "plt.axvline(optimal_c, color='r', linestyle='-', label=f\"Optimal c = {optimal_c:.2f}\")\n",
    "\n",
    "plt.xlabel(\"Constant Value (c)\")\n",
    "plt.ylabel(\"Mean Squared Error (MSE)\")\n",
    "plt.title(\"MSE vs. Constant Value (c) - Uniform Distribution of Age\")\n",
    "plt.legend()\n",
    "plt.grid(True)\n",
    "plt.show()"
   ]
  },
  {
   "cell_type": "markdown",
   "id": "75812aca",
   "metadata": {},
   "source": [
    "# Part 3 : "
   ]
  },
  {
   "cell_type": "markdown",
   "id": "98d6a762",
   "metadata": {},
   "source": [
    "Write your own implementation of splitting the dataset on train and test using shuffling:"
   ]
  },
  {
   "cell_type": "code",
   "execution_count": 8,
   "id": "e4a7e159-1c4d-4514-ab76-9fcf047fa4df",
   "metadata": {},
   "outputs": [
    {
     "name": "stdout",
     "output_type": "stream",
     "text": [
      "X_train: [[1 2]\n",
      " [5 6]\n",
      " [7 8]]\n",
      "X_test: [[3 4]]\n",
      "y_train: [0 0 1]\n",
      "y_test: [1]\n"
     ]
    }
   ],
   "source": [
    "import numpy as np\n",
    "def train_test_split(X, y, test_size=0.2):\n",
    "    \"\"\"\n",
    "    Split the dataset into training and testing sets.\n",
    "\n",
    "    Parameters:\n",
    "    X (numpy array): The feature matrix.\n",
    "    y (numpy array): The target labels.\n",
    "    test_size (float): The proportion of the dataset to include in the test split.\n",
    "\n",
    "    Returns:\n",
    "    X_train (numpy array): The training feature matrix.\n",
    "    X_test (numpy array): The testing feature matrix.\n",
    "    y_train (numpy array): The training labels.\n",
    "    y_test (numpy array): The testing labels.\n",
    "    \"\"\"\n",
    "\n",
    "    # YOUR CODE GOES HERE\n",
    "    X = np.array(X)\n",
    "    y = np.array(y)\n",
    "    \n",
    "    n_samples = len(X)\n",
    "    \n",
    "    indices = np.random.permutation(n_samples)\n",
    "    \n",
    "    test_size = int(n_samples * test_size)\n",
    "    \n",
    "    test_indices = indices[:test_size]\n",
    "    train_indices = indices[test_size:]\n",
    "    \n",
    "    X_train = X[train_indices]\n",
    "    X_test = X[test_indices]\n",
    "    y_train = y[train_indices]\n",
    "    y_test = y[test_indices]\n",
    "\n",
    "    \n",
    "    return X_train, X_test, y_train, y_test\n",
    "\n",
    "\n",
    "# Example Usage\n",
    "X = [[1, 2], [3, 4], [5, 6], [7, 8]]\n",
    "y = [0, 1, 0, 1]\n",
    "\n",
    "X_train, X_test, y_train, y_test = train_test_split(X, y, test_size=0.25)\n",
    "\n",
    "print(\"X_train:\", X_train)\n",
    "print(\"X_test:\", X_test)\n",
    "print(\"y_train:\", y_train)\n",
    "print(\"y_test:\", y_test)"
   ]
  },
  {
   "cell_type": "markdown",
   "id": "4257ffdc-f52c-4dc7-82a2-e23875811fae",
   "metadata": {},
   "source": [
    "Run the following tests to ensure that your implementation works as expected. <br>\n",
    "<strong>Don't modify the cells</strong>!"
   ]
  },
  {
   "cell_type": "code",
   "execution_count": 25,
   "id": "7dbd7f9b-74a3-4f66-9b09-f9bc778cb27e",
   "metadata": {},
   "outputs": [
    {
     "name": "stdout",
     "output_type": "stream",
     "text": [
      "Requirement already satisfied: scikit-learn in /Library/Frameworks/Python.framework/Versions/3.11/lib/python3.11/site-packages (1.6.1)\n",
      "Requirement already satisfied: numpy>=1.19.5 in /Library/Frameworks/Python.framework/Versions/3.11/lib/python3.11/site-packages (from scikit-learn) (1.24.3)\n",
      "Requirement already satisfied: scipy>=1.6.0 in /Library/Frameworks/Python.framework/Versions/3.11/lib/python3.11/site-packages (from scikit-learn) (1.15.1)\n",
      "Requirement already satisfied: joblib>=1.2.0 in /Library/Frameworks/Python.framework/Versions/3.11/lib/python3.11/site-packages (from scikit-learn) (1.2.0)\n",
      "Requirement already satisfied: threadpoolctl>=3.1.0 in /Library/Frameworks/Python.framework/Versions/3.11/lib/python3.11/site-packages (from scikit-learn) (3.5.0)\n",
      "\n",
      "\u001b[1m[\u001b[0m\u001b[34;49mnotice\u001b[0m\u001b[1;39;49m]\u001b[0m\u001b[39;49m A new release of pip is available: \u001b[0m\u001b[31;49m23.0.1\u001b[0m\u001b[39;49m -> \u001b[0m\u001b[32;49m25.0\u001b[0m\n",
      "\u001b[1m[\u001b[0m\u001b[34;49mnotice\u001b[0m\u001b[1;39;49m]\u001b[0m\u001b[39;49m To update, run: \u001b[0m\u001b[32;49mpip install --upgrade pip\u001b[0m\n"
     ]
    }
   ],
   "source": [
    "!pip install scikit-learn"
   ]
  },
  {
   "cell_type": "code",
   "execution_count": 9,
   "id": "3423ff47-9a9d-4694-a32f-6832f00da0bd",
   "metadata": {},
   "outputs": [],
   "source": [
    "def test_basic_split():\n",
    "    X = [[1, 2], [3, 4], [5, 6], [7, 8]]\n",
    "    y = [0, 1, 0, 1]\n",
    "    \n",
    "    X_train, X_test, y_train, y_test = train_test_split(X, y, test_size=0.25)\n",
    "    \n",
    "    # Check if the correct number of samples is in the train and test sets\n",
    "    assert len(X_train) == 3, f\"Expected 3 training samples, got {len(X_train)}\"\n",
    "    assert len(X_test) == 1, f\"Expected 1 test sample, got {len(X_test)}\"\n",
    "    assert len(y_train) == 3, f\"Expected 3 training labels, got {len(y_train)}\"\n",
    "    assert len(y_test) == 1, f\"Expected 1 test label, got {len(y_test)}\"\n",
    "    \n",
    "    print(\"Basic split test passed.\")"
   ]
  },
  {
   "cell_type": "code",
   "execution_count": 10,
   "id": "3c166f7f-8c18-4b72-aa2c-d09b8b6ea2b3",
   "metadata": {},
   "outputs": [],
   "source": [
    "def test_empty_dataset():\n",
    "    X = []\n",
    "    y = []\n",
    "    \n",
    "    X_train, X_test, y_train, y_test = train_test_split(X, y, test_size=0.25)\n",
    "    \n",
    "    # Check if the splits are empty\n",
    "    assert len(X_train) == 0, f\"Expected 0 training samples, got {len(X_train)}\"\n",
    "    assert len(X_test) == 0, f\"Expected 0 test samples, got {len(X_test)}\"\n",
    "    assert len(y_train) == 0, f\"Expected 0 training labels, got {len(y_train)}\"\n",
    "    assert len(y_test) == 0, f\"Expected 0 test labels, got {len(y_test)}\"\n",
    "    \n",
    "    print(\"Empty dataset test passed.\")"
   ]
  },
  {
   "cell_type": "code",
   "execution_count": 11,
   "id": "704d03fe-649c-4cd5-a7f2-fcbd3c0e2178",
   "metadata": {},
   "outputs": [],
   "source": [
    "def test_different_test_size():\n",
    "    X = [[1, 2], [3, 4], [5, 6], [7, 8]]\n",
    "    y = [0, 1, 0, 1]\n",
    "    \n",
    "    # Test with 50% test size\n",
    "    X_train, X_test, y_train, y_test = train_test_split(X, y, test_size=0.5)\n",
    "    assert len(X_test) == 2, f\"Expected 2 test samples, got {len(X_test)}\"\n",
    "    \n",
    "    # Test with 25% test size\n",
    "    X_train, X_test, y_train, y_test = train_test_split(X, y, test_size=0.25)\n",
    "    assert len(X_test) == 1, f\"Expected 1 test sample, got {len(X_test)}\"\n",
    "    \n",
    "    print(\"Different test_size values test passed.\")"
   ]
  },
  {
   "cell_type": "code",
   "execution_count": 12,
   "id": "b3f6cd9a-62cb-4a5f-a225-dc46e9fa3082",
   "metadata": {},
   "outputs": [
    {
     "name": "stdout",
     "output_type": "stream",
     "text": [
      "Requirement already satisfied: scikit-learn in /Library/Frameworks/Python.framework/Versions/3.12/lib/python3.12/site-packages (1.6.1)\n",
      "Requirement already satisfied: numpy>=1.19.5 in /Library/Frameworks/Python.framework/Versions/3.12/lib/python3.12/site-packages (from scikit-learn) (2.1.2)\n",
      "Requirement already satisfied: scipy>=1.6.0 in /Library/Frameworks/Python.framework/Versions/3.12/lib/python3.12/site-packages (from scikit-learn) (1.15.1)\n",
      "Requirement already satisfied: joblib>=1.2.0 in /Library/Frameworks/Python.framework/Versions/3.12/lib/python3.12/site-packages (from scikit-learn) (1.4.2)\n",
      "Requirement already satisfied: threadpoolctl>=3.1.0 in /Library/Frameworks/Python.framework/Versions/3.12/lib/python3.12/site-packages (from scikit-learn) (3.5.0)\n",
      "\n",
      "\u001b[1m[\u001b[0m\u001b[34;49mnotice\u001b[0m\u001b[1;39;49m]\u001b[0m\u001b[39;49m A new release of pip is available: \u001b[0m\u001b[31;49m23.2.1\u001b[0m\u001b[39;49m -> \u001b[0m\u001b[32;49m25.0\u001b[0m\n",
      "\u001b[1m[\u001b[0m\u001b[34;49mnotice\u001b[0m\u001b[1;39;49m]\u001b[0m\u001b[39;49m To update, run: \u001b[0m\u001b[32;49mpip3 install --upgrade pip\u001b[0m\n",
      "Note: you may need to restart the kernel to use updated packages.\n"
     ]
    }
   ],
   "source": [
    "%pip install scikit-learn\n",
    "from sklearn.datasets import load_iris\n",
    "\n",
    "data = load_iris()\n",
    "X = data.data\n",
    "y = data.target\n",
    "\n",
    "def test_real_dataset():\n",
    "    X_train, X_test, y_train, y_test = train_test_split(X, y, test_size=0.3)\n",
    "    \n",
    "    # Check the size of the train and test sets\n",
    "    assert len(X_train) == 105, f\"Expected 105 training samples, got {len(X_train)}\"\n",
    "    assert len(X_test) == 45, f\"Expected 45 test samples, got {len(X_test)}\"\n",
    "    \n",
    "    print(\"Real dataset test passed.\")\n"
   ]
  },
  {
   "cell_type": "code",
   "execution_count": 13,
   "id": "8e78a79c-fe17-444e-a7da-190fc9aeb2d8",
   "metadata": {},
   "outputs": [
    {
     "name": "stdout",
     "output_type": "stream",
     "text": [
      "Basic split test passed.\n",
      "Empty dataset test passed.\n",
      "Different test_size values test passed.\n",
      "Real dataset test passed.\n"
     ]
    }
   ],
   "source": [
    "def run_tests():\n",
    "    test_basic_split()\n",
    "    test_empty_dataset()\n",
    "    test_different_test_size()\n",
    "    test_real_dataset()\n",
    "\n",
    "run_tests()"
   ]
  },
  {
   "cell_type": "code",
   "execution_count": null,
   "id": "cc83d5c6-cffc-42f6-9259-b5e24893cc95",
   "metadata": {},
   "outputs": [],
   "source": []
  }
 ],
 "metadata": {
  "kernelspec": {
   "display_name": "Python 3 (ipykernel)",
   "language": "python",
   "name": "python3"
  },
  "language_info": {
   "codemirror_mode": {
    "name": "ipython",
    "version": 3
   },
   "file_extension": ".py",
   "mimetype": "text/x-python",
   "name": "python",
   "nbconvert_exporter": "python",
   "pygments_lexer": "ipython3",
   "version": "3.12.0"
  }
 },
 "nbformat": 4,
 "nbformat_minor": 5
}
